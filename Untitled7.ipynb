{
  "nbformat": 4,
  "nbformat_minor": 0,
  "metadata": {
    "colab": {
      "provenance": [],
      "authorship_tag": "ABX9TyN7tcAA37htbHCK5K/vYaUn",
      "include_colab_link": true
    },
    "kernelspec": {
      "name": "python3",
      "display_name": "Python 3"
    },
    "language_info": {
      "name": "python"
    }
  },
  "cells": [
    {
      "cell_type": "markdown",
      "metadata": {
        "id": "view-in-github",
        "colab_type": "text"
      },
      "source": [
        "<a href=\"https://colab.research.google.com/github/Thiago260785/Imers-o-Alura/blob/main/Untitled7.ipynb\" target=\"_parent\"><img src=\"https://colab.research.google.com/assets/colab-badge.svg\" alt=\"Open In Colab\"/></a>"
      ]
    },
    {
      "cell_type": "code",
      "execution_count": null,
      "metadata": {
        "id": "6TGzo7eW1zmm"
      },
      "outputs": [],
      "source": []
    },
    {
      "cell_type": "markdown",
      "source": [
        "Instalando o SDK do google"
      ],
      "metadata": {
        "id": "lFE77Atz3XIz"
      }
    },
    {
      "cell_type": "code",
      "execution_count": 20,
      "metadata": {
        "id": "J6Pd9SFJ1yVi"
      },
      "outputs": [],
      "source": [
        "!pip install -q -U google-generativeai"
      ]
    },
    {
      "cell_type": "code",
      "source": [
        "import google.generativeai as genai\n",
        "from google.colab import userdata\n",
        "api_key = userdata.get(\"CHAVE SECRETA\")\n",
        "GOOGLE_API_KEY=(api_key=api_key')\n",
        "genai.configure(api_key=GOOGLE_API_KEY)\n"
      ],
      "metadata": {
        "id": "LWENyqKG2Gxt"
      },
      "execution_count": 7,
      "outputs": []
    },
    {
      "cell_type": "markdown",
      "source": [
        "Listar os modelos dísponiveis"
      ],
      "metadata": {
        "id": "pmFnAmWM3jRk"
      }
    },
    {
      "cell_type": "code",
      "source": [
        "for m in genai.list_models():\n",
        "  if 'generacontent' in m.supported_generation_methods:\n",
        "    print(m.name)\n"
      ],
      "metadata": {
        "id": "vXfaGzuL3P9n"
      },
      "execution_count": 19,
      "outputs": []
    },
    {
      "cell_type": "markdown",
      "source": [
        "Inicializando o modelo"
      ],
      "metadata": {
        "id": "YMIhALst72gc"
      }
    },
    {
      "cell_type": "code",
      "source": [
        "model = genai.GenerativeModel(model_name=\"gemini-1.0-pro\")"
      ],
      "metadata": {
        "id": "J8WhRxrC74vD"
      },
      "execution_count": 21,
      "outputs": []
    },
    {
      "cell_type": "code",
      "source": [
        "response = model.generate_content(\"Vamos aprender novos conteudos.\")\n",
        "print(response.text)"
      ],
      "metadata": {
        "colab": {
          "base_uri": "https://localhost:8080/",
          "height": 974
        },
        "id": "L6NwtmAn9VA7",
        "outputId": "91e0fd54-639a-423c-ba3b-53627be42f63"
      },
      "execution_count": 22,
      "outputs": [
        {
          "output_type": "stream",
          "name": "stdout",
          "text": [
            "Claro, podemos aprender novos tópicos juntos! O aprendizado é um processo contínuo e emocionante, e estou feliz em embarcar nesta jornada com você.\n",
            "\n",
            "**Aqui estão alguns tópicos possíveis que podemos explorar:**\n",
            "\n",
            "**Ciência e Tecnologia:**\n",
            "* Inteligência artificial\n",
            "* Robótica\n",
            "* Nanotecnologia\n",
            "* Exploração espacial\n",
            "* Biotecnologia\n",
            "\n",
            "**Arte e Cultura:**\n",
            "* História da arte\n",
            "* Literatura mundial\n",
            "* Filosofia\n",
            "* Música contemporânea\n",
            "* Cinema internacional\n",
            "\n",
            "**Ciências Sociais:**\n",
            "* Psicologia\n",
            "* Sociologia\n",
            "* Economia\n",
            "* Antropologia\n",
            "* Ciência política\n",
            "\n",
            "**Idiomas:**\n",
            "* Espanhol\n",
            "* Francês\n",
            "* Mandarim\n",
            "* Japonês\n",
            "* Árabe\n",
            "\n",
            "**Desenvolvimento Pessoal:**\n",
            "* Inteligência emocional\n",
            "* Comunicação eficaz\n",
            "* Liderança\n",
            "* Finanças pessoais\n",
            "* Saúde e bem-estar\n",
            "\n",
            "**Outros tópicos de seu interesse**\n",
            "\n",
            "Sinta-se à vontade para sugerir quaisquer outros tópicos que você gostaria de aprender. Vamos trabalhar juntos para criar um plano de aprendizagem personalizado que atenda às suas necessidades e interesses.\n",
            "\n",
            "**Recursos de Aprendizagem:**\n",
            "\n",
            "* Livros\n",
            "* Artigos online\n",
            "* Cursos online\n",
            "* Tutoriais em vídeo\n",
            "* Discussões em grupo\n",
            "\n",
            "Podemos explorar uma variedade de recursos para tornar o processo de aprendizagem envolvente e eficaz.\n",
            "\n",
            "Vamos começar nossa jornada de aprendizagem!\n"
          ]
        }
      ]
    },
    {
      "cell_type": "code",
      "source": [
        "chat = model.start_chat(history=[])"
      ],
      "metadata": {
        "id": "tvf4WVKz-OBe"
      },
      "execution_count": 23,
      "outputs": []
    },
    {
      "cell_type": "code",
      "source": [
        "prompt = input(\"esperando prompt: \")\n",
        "while prompt != \"fim\":\n",
        "  response = chat.send_message(prompt)\n",
        "  print(\"Resposta:\", response.text, \"\\n\")\n",
        "  prompt = input(\"esperando prompt: \")"
      ],
      "metadata": {
        "colab": {
          "base_uri": "https://localhost:8080/",
          "height": 472
        },
        "id": "-FVTkG5r_PXM",
        "outputId": "62c85c73-c757-43a8-d13e-18d9825db514"
      },
      "execution_count": null,
      "outputs": [
        {
          "output_type": "stream",
          "name": "stdout",
          "text": [
            "esperando prompt: campanha dia das mães\n",
            "Resposta: **Campanha Dia das Mães: Amor de Mãe, Presente Inesquecível!**\n",
            "\n",
            "**Slogan:**\n",
            "* Celebre o amor incondicional com presentes que aquecem o coração.\n",
            "\n",
            "**Mensagem:**\n",
            "Mamãe, você é a luz que ilumina nossos dias, o amor que nos envolve e a força que nos impulsiona. No Dia das Mães, vamos retribuir todo o seu carinho com presentes inesquecíveis que expressam nossa gratidão.\n",
            "\n",
            "**Ofertas:**\n",
            "* **Desconto de 20% em todos os produtos:** Mime sua mãe com produtos especiais que vão deixá-la feliz, de joias a perfumes.\n",
            "* **Presente grátis na compra acima de R$ 100:** Escolha um presente exclusivo como um porta-retrato personalizado ou um buquê de flores para complementar sua compra.\n",
            "* **Frete grátis em todas as compras:** Não se preocupe com taxas adicionais, entregaremos seu presente diretamente na porta da sua mãe.\n",
            "\n",
            "**Como participar:**\n",
            "* Visite nosso site ou loja física e escolha o presente perfeito.\n",
            "* Use o código promocional **DIADASMAES20** na finalização da compra para obter seu desconto e brindes.\n",
            "\n",
            "**Data da campanha:**\n",
            "* Válido apenas no Dia das Mães (data da sua região).\n",
            "\n",
            "**Chamada para ação:**\n",
            "Não perca esta oportunidade de demonstrar seu amor e apreço à pessoa mais especial do mundo. Faça sua compra hoje e crie memórias inesquecíveis neste Dia das Mães! \n",
            "\n"
          ]
        }
      ]
    },
    {
      "cell_type": "code",
      "source": [
        "#Melhorando a visualização\n",
        "#Código disponível em https://ai.google/dev/tutorials/python quickstart#import packages\n",
        "\n",
        "import textwrap\n",
        "from IPython.display import display\n",
        "from IPython.display import Markdown\n",
        "\n",
        "def to_markdown(text):\n",
        "  text = text.replace('`', r'\\`')\n",
        "  return Markdown(textwrap.indent(text, '  > '))\n",
        "\n",
        "#Imprimindo o histórico\n",
        "for message in chat.history:\n",
        "  display(to_markdown(f\"**{message.role}:** {message.parts[0].text}\"))\n",
        "  print(\"-----\")"
      ],
      "metadata": {
        "colab": {
          "base_uri": "https://localhost:8080/",
          "height": 268
        },
        "id": "taaHFvgyDsE9",
        "outputId": "898df82c-d878-48cd-9107-717998df71a3"
      },
      "execution_count": 27,
      "outputs": [
        {
          "output_type": "display_data",
          "data": {
            "text/plain": [
              "<IPython.core.display.Markdown object>"
            ],
            "text/markdown": "  > **user:** Qual é a capital do Japão?"
          },
          "metadata": {}
        },
        {
          "output_type": "stream",
          "name": "stdout",
          "text": [
            "-----\n"
          ]
        },
        {
          "output_type": "display_data",
          "data": {
            "text/plain": [
              "<IPython.core.display.Markdown object>"
            ],
            "text/markdown": "  > **model:** Tóquio"
          },
          "metadata": {}
        },
        {
          "output_type": "stream",
          "name": "stdout",
          "text": [
            "-----\n"
          ]
        },
        {
          "output_type": "display_data",
          "data": {
            "text/plain": [
              "<IPython.core.display.Markdown object>"
            ],
            "text/markdown": "  > **user:** qual é a comida tipica desse pais"
          },
          "metadata": {}
        },
        {
          "output_type": "stream",
          "name": "stdout",
          "text": [
            "-----\n"
          ]
        },
        {
          "output_type": "display_data",
          "data": {
            "text/plain": [
              "<IPython.core.display.Markdown object>"
            ],
            "text/markdown": "  > **model:** Sushi"
          },
          "metadata": {}
        },
        {
          "output_type": "stream",
          "name": "stdout",
          "text": [
            "-----\n"
          ]
        }
      ]
    }
  ]
}